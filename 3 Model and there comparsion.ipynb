{
  "nbformat": 4,
  "nbformat_minor": 0,
  "metadata": {
    "colab": {
      "provenance": []
    },
    "kernelspec": {
      "name": "python3",
      "display_name": "Python 3"
    },
    "language_info": {
      "name": "python"
    }
  },
  "cells": [
    {
      "cell_type": "code",
      "execution_count": null,
      "metadata": {
        "id": "aUDfDtGed4OY"
      },
      "outputs": [],
      "source": [
        "#@title Part 1 (a)\n",
        "# we are selecting problem2\n",
        "\n",
        "import numpy as np\n",
        "import pandas as pd \n",
        "\n",
        "\n",
        "samples=[]\n",
        "names=['sample1','sample2','sample3','sample4']\n",
        "def problem02(x):\n",
        "  samples.append(np.sin(x)+np.sin((10/3)*x))\n",
        "  return np.sin(x)+np.sin((10/3)*x)\n",
        "\n",
        "\n",
        "problem02(2)\n",
        "problem02(3.5)\n",
        "problem02(2.1)\n",
        "problem02(2.4)\n",
        "\n",
        "samples = np.asarray(samples)\n",
        "samples = samples.reshape(-1,1)"
      ]
    },
    {
      "cell_type": "code",
      "source": [
        "names=pd.get_dummies(names)\n",
        "from sklearn.gaussian_process import GaussianProcessRegressor\n",
        "from sklearn.gaussian_process.kernels import WhiteKernel, DotProduct, RBF\n",
        "import matplotlib.pyplot as plt\n",
        "import numpy as np\n",
        "\n",
        "# Random seeds\n",
        "np.random.seed(seed=0)  # Set seed for NumPy\n",
        "random_state = 0\n",
        "\n",
        "# Generate features, and take norm for use with target\n",
        "x = samples\n",
        "y = names\n",
        "\n",
        "# Create kernel and define GPR\n",
        "kernel = RBF() + WhiteKernel()\n",
        "gpr = GaussianProcessRegressor(kernel=kernel, random_state=random_state)\n",
        "\n",
        "# Fit GPR model\n",
        "gpr.fit(x, y)\n",
        "\n"
      ],
      "metadata": {
        "colab": {
          "base_uri": "https://localhost:8080/"
        },
        "id": "UrMaaEbsi-g3",
        "outputId": "4d82a132-a837-458e-8881-2f96b3778807"
      },
      "execution_count": null,
      "outputs": [
        {
          "output_type": "execute_result",
          "data": {
            "text/plain": [
              "GaussianProcessRegressor(kernel=RBF(length_scale=1) + WhiteKernel(noise_level=1),\n",
              "                         random_state=0)"
            ]
          },
          "metadata": {},
          "execution_count": 96
        }
      ]
    },
    {
      "cell_type": "code",
      "source": [
        "# Create test data\n",
        "x_test = samples\n",
        "y_test = names\n",
        " \n",
        "\n",
        "# Initialize plot\n",
        "f, ax = plt.subplots(1, 1, figsize=(4, 3))\n",
        "\n",
        "# Squeeze data\n",
        "names=['sample1','sample2','sample3','sample4']\n",
        "x = samples\n",
        "y = names\n",
        "x_test = x_test\n",
        "y_test = y_test\n",
        "\n",
        "# Plot the training data\n",
        "ax.scatter(x, y)\n"
      ],
      "metadata": {
        "colab": {
          "base_uri": "https://localhost:8080/",
          "height": 224
        },
        "id": "yHPn_HCWlzVL",
        "outputId": "7e0407cd-bd1c-4f14-b706-984eb3a4a7df"
      },
      "execution_count": null,
      "outputs": [
        {
          "output_type": "execute_result",
          "data": {
            "text/plain": [
              "<matplotlib.collections.PathCollection at 0x7ff6978a9dc0>"
            ]
          },
          "metadata": {},
          "execution_count": 97
        },
        {
          "output_type": "display_data",
          "data": {
            "text/plain": [
              "<Figure size 288x216 with 1 Axes>"
            ],
            "image/png": "[encoded data removed]"
          },
          "metadata": {
            "needs_background": "light"
          }
        }
      ]
    },
    {
      "cell_type": "code",
      "source": [
        "# now getting standard deiation \n",
        "np.std(samples)"
      ],
      "metadata": {
        "colab": {
          "base_uri": "https://localhost:8080/"
        },
        "id": "1XPAJPiTmpKo",
        "outputId": "a720ba86-a39b-4f3c-8107-caf6991445e7"
      },
      "execution_count": null,
      "outputs": [
        {
          "output_type": "execute_result",
          "data": {
            "text/plain": [
              "1.1441007103721437"
            ]
          },
          "metadata": {},
          "execution_count": 98
        }
      ]
    },
    {
      "cell_type": "code",
      "source": [
        "pip install bayesian-optimization"
      ],
      "metadata": {
        "colab": {
          "base_uri": "https://localhost:8080/"
        },
        "id": "LjU0cjolkGMZ",
        "outputId": "14a05e69-fba4-4011-992a-c96536f61129"
      },
      "execution_count": null,
      "outputs": [
        {
          "output_type": "stream",
          "name": "stdout",
          "text": [
            "Looking in indexes: https://pypi.org/simple, https://us-python.pkg.dev/colab-wheels/public/simple/\n",
            "Requirement already satisfied: bayesian-optimization in /usr/local/lib/python3.8/dist-packages (1.4.2)\n",
            "Requirement already satisfied: scipy>=1.0.0 in /usr/local/lib/python3.8/dist-packages (from bayesian-optimization) (1.7.3)\n",
            "Requirement already satisfied: scikit-learn>=0.18.0 in /usr/local/lib/python3.8/dist-packages (from bayesian-optimization) (1.0.2)\n",
            "Requirement already satisfied: colorama>=0.4.6 in /usr/local/lib/python3.8/dist-packages (from bayesian-optimization) (0.4.6)\n",
            "Requirement already satisfied: numpy>=1.9.0 in /usr/local/lib/python3.8/dist-packages (from bayesian-optimization) (1.21.6)\n",
            "Requirement already satisfied: joblib>=0.11 in /usr/local/lib/python3.8/dist-packages (from scikit-learn>=0.18.0->bayesian-optimization) (1.2.0)\n",
            "Requirement already satisfied: threadpoolctl>=2.0.0 in /usr/local/lib/python3.8/dist-packages (from scikit-learn>=0.18.0->bayesian-optimization) (3.1.0)\n"
          ]
        }
      ]
    },
    {
      "cell_type": "code",
      "source": [
        "#@title Part 1 (b)\n",
        "import numpy as np\n",
        "import matplotlib.pyplot as plt\n",
        "from sklearn.svm import SVC\n",
        "from sklearn.datasets import load_breast_cancer\n",
        "from sklearn.preprocessing import MinMaxScaler\n",
        "from sklearn.model_selection import train_test_split\n",
        "from sklearn.metrics import roc_auc_score\n",
        "from bayes_opt import BayesianOptimization, UtilityFunction\n",
        "import warnings\n",
        "warnings.filterwarnings(\"ignore\")"
      ],
      "metadata": {
        "id": "0GgFegN9jhQD"
      },
      "execution_count": null,
      "outputs": []
    },
    {
      "cell_type": "code",
      "source": [
        "x = samples\n",
        "y = names\n",
        "X_train, X_test, y_train, y_test = train_test_split(x,y,test_size=0.33, random_state=42) "
      ],
      "metadata": {
        "id": "LdT5PoRzjcZd"
      },
      "execution_count": null,
      "outputs": []
    },
    {
      "cell_type": "code",
      "source": [
        "scaler = MinMaxScaler()\n",
        "X_train_scaled = scaler.fit_transform(X_train)\n",
        "X_test_scaled = scaler.transform(X_test)\n",
        "def black_box_function(C):\n",
        "    model = SVC(C = C)\n",
        "    model.fit(X_train_scaled, y_train)\n",
        "    y_score = model.decision_function(X_test_scaled)\n",
        "    f = roc_auc_score(y_test, y_score)\n",
        "    return f\n",
        "pbounds = {\"C\": [0.1, 10]}\n",
        "optimizer = BayesianOptimization(f = black_box_function,pbounds = pbounds, verbose = 2,random_state = 4)\n",
        "optimizer.maximize(init_points = 5, n_iter = 10)\n",
        "print(\"Best result: {}; f(x) = {}.\".format(optimizer.max[\"params\"], optimizer.max[\"target\"]))"
      ],
      "metadata": {
        "colab": {
          "base_uri": "https://localhost:8080/"
        },
        "id": "5VXL7UN4kMFy",
        "outputId": "be774358-bc43-44b6-894d-f9332ceeb60f"
      },
      "execution_count": null,
      "outputs": [
        {
          "output_type": "stream",
          "name": "stdout",
          "text": [
            "|   iter    |  target   |     C     |\n",
            "-------------------------------------\n",
            "| \u001b[0m1        \u001b[0m | \u001b[0m1.0      \u001b[0m | \u001b[0m9.674    \u001b[0m |\n",
            "| \u001b[0m2        \u001b[0m | \u001b[0m1.0      \u001b[0m | \u001b[0m5.518    \u001b[0m |\n",
            "| \u001b[0m3        \u001b[0m | \u001b[0m1.0      \u001b[0m | \u001b[0m9.73     \u001b[0m |\n",
            "| \u001b[0m4        \u001b[0m | \u001b[0m1.0      \u001b[0m | \u001b[0m7.177    \u001b[0m |\n",
            "| \u001b[0m5        \u001b[0m | \u001b[0m1.0      \u001b[0m | \u001b[0m7.008    \u001b[0m |\n",
            "| \u001b[0m6        \u001b[0m | \u001b[0m1.0      \u001b[0m | \u001b[0m0.1023   \u001b[0m |\n",
            "| \u001b[0m7        \u001b[0m | \u001b[0m1.0      \u001b[0m | \u001b[0m0.1013   \u001b[0m |\n",
            "| \u001b[0m8        \u001b[0m | \u001b[0m1.0      \u001b[0m | \u001b[0m0.1005   \u001b[0m |\n",
            "| \u001b[0m9        \u001b[0m | \u001b[0m1.0      \u001b[0m | \u001b[0m10.0     \u001b[0m |\n",
            "| \u001b[0m10       \u001b[0m | \u001b[0m1.0      \u001b[0m | \u001b[0m0.1008   \u001b[0m |\n",
            "| \u001b[0m11       \u001b[0m | \u001b[0m1.0      \u001b[0m | \u001b[0m10.0     \u001b[0m |\n",
            "| \u001b[0m12       \u001b[0m | \u001b[0m1.0      \u001b[0m | \u001b[0m0.1017   \u001b[0m |\n",
            "| \u001b[0m13       \u001b[0m | \u001b[0m1.0      \u001b[0m | \u001b[0m9.999    \u001b[0m |\n",
            "| \u001b[0m14       \u001b[0m | \u001b[0m1.0      \u001b[0m | \u001b[0m0.1005   \u001b[0m |\n",
            "| \u001b[0m15       \u001b[0m | \u001b[0m1.0      \u001b[0m | \u001b[0m10.0     \u001b[0m |\n",
            "=====================================\n",
            "Best result: {'C': 9.6735954062354}; f(x) = 1.0.\n"
          ]
        }
      ]
    },
    {
      "cell_type": "code",
      "source": [
        "df = pbounds\n",
        "df"
      ],
      "metadata": {
        "colab": {
          "base_uri": "https://localhost:8080/"
        },
        "id": "GSByefk-pkNr",
        "outputId": "43ecb823-1ac9-4c47-bc1c-98b514a81f47"
      },
      "execution_count": null,
      "outputs": [
        {
          "output_type": "execute_result",
          "data": {
            "text/plain": [
              "{'C': [0.1, 10]}"
            ]
          },
          "metadata": {},
          "execution_count": 103
        }
      ]
    },
    {
      "cell_type": "code",
      "source": [
        "optimizer = BayesianOptimization(f = None, \n",
        "                                 pbounds = {\"C\": [0.01, 10], \n",
        "                                            \"degree\": [1, 5]}, \n",
        "                                 verbose = 2, random_state = 1234)\n",
        "utility = UtilityFunction(kind = \"ucb\", kappa = 1.96, xi = 0.01)\n",
        "def black_box_function(C, degree):\n",
        "    model = SVC(C = C, degree = degree)\n",
        "    model.fit(X_train_scaled, y_train)\n",
        "    y_score = model.decision_function(X_test_scaled)\n",
        "    f = roc_auc_score(y_test, y_score)\n",
        "    return f\n",
        "for i in range(25):\n",
        "    next_point = optimizer.suggest(utility)\n",
        "    next_point[\"degree\"] = int(next_point[\"degree\"])\n",
        "    target = black_box_function(**next_point)\n",
        "    try:\n",
        "        optimizer.register(params = next_point, target = target)\n",
        "    except:\n",
        "        pass\n",
        "print(\"Best result: {}; f(x) = {:.3f}.\".format(optimizer.max[\"params\"], optimizer.max[\"target\"]))\n",
        "plt.figure(figsize = (15, 5))\n",
        "plt.plot(range(1, 1 + len(optimizer.space.target)), optimizer.space.target, \"-o\")\n",
        "plt.grid(True)\n",
        "plt.xlabel(\"Iteration\", fontsize = 14)\n",
        "plt.ylabel(\"Black box function f(x)\", fontsize = 14)\n",
        "plt.xticks(fontsize = 14)\n",
        "plt.yticks(fontsize = 14)\n",
        "plt.show()"
      ],
      "metadata": {
        "colab": {
          "base_uri": "https://localhost:8080/",
          "height": 355
        },
        "id": "mP6Pjgi4lL6v",
        "outputId": "fc4f3270-0f76-4d07-ed2c-1df5d98e0e75"
      },
      "execution_count": null,
      "outputs": [
        {
          "output_type": "stream",
          "name": "stdout",
          "text": [
            "Best result: {'C': 1.923279309285134, 'degree': 3.0}; f(x) = 1.000.\n"
          ]
        },
        {
          "output_type": "display_data",
          "data": {
            "text/plain": [
              "<Figure size 1080x360 with 1 Axes>"
            ],
            "image/png": "[encoded data removed]"
          },
          "metadata": {
            "needs_background": "light"
          }
        }
      ]
    },
    {
      "cell_type": "code",
      "source": [
        "#@title Part 1 (c) Using sample data\n",
        "import math\n",
        "import random\n",
        "import seaborn as sns\n",
        "import pandas as pd\n",
        "import numpy as np\n",
        "import matplotlib.pyplot as plt\n",
        "plt.style.use('seaborn-whitegrid')\n",
        "%matplotlib inline"
      ],
      "metadata": {
        "id": "VMycek6OlRpj"
      },
      "execution_count": null,
      "outputs": []
    },
    {
      "cell_type": "code",
      "source": [
        "user = list(range(0,10000))\n",
        "m1 = np.random.normal(100,10,10000)\n",
        "m2 = np.random.normal(105,5,10000)\n",
        "m3 = np.random.normal(95,10,10000)\n",
        "m4 = np.random.normal(100,5,10000)\n",
        "df = pd.DataFrame({\"user\":user, \"m1\":m1,\"m2\":m2,\"m3\":m3,\"m4\":m4})\n",
        "df.head()"
      ],
      "metadata": {
        "colab": {
          "base_uri": "https://localhost:8080/",
          "height": 206
        },
        "id": "mSSyq3MKpL1O",
        "outputId": "47de179b-c3fe-4a06-9f70-4db7bb795b6c"
      },
      "execution_count": null,
      "outputs": [
        {
          "output_type": "execute_result",
          "data": {
            "text/plain": [
              "   user          m1          m2          m3          m4\n",
              "0     0  114.940791  101.134589  101.530695   99.731016\n",
              "1     1   97.948417  102.993725  104.302551  103.407506\n",
              "2     2  103.130677  104.423216   99.051826   93.501676\n",
              "3     3   91.459043  110.057777   97.040025  103.820954\n",
              "4     4   74.470102  112.566178   86.772344  100.565457"
            ],
            "text/html": [
              "\n",
              "  <div id=\"df-8b7dead5-9219-4df1-8890-b8bc9ef57bfa\">\n",
              "    <div class=\"colab-df-container\">\n",
              "      <div>\n",
              "<style scoped>\n",
              "    .dataframe tbody tr th:only-of-type {\n",
              "        vertical-align: middle;\n",
              "    }\n",
              "\n",
              "    .dataframe tbody tr th {\n",
              "        vertical-align: top;\n",
              "    }\n",
              "\n",
              "    .dataframe thead th {\n",
              "        text-align: right;\n",
              "    }\n",
              "</style>\n",
              "<table border=\"1\" class=\"dataframe\">\n",
              "  <thead>\n",
              "    <tr style=\"text-align: right;\">\n",
              "      <th></th>\n",
              "      <th>user</th>\n",
              "      <th>m1</th>\n",
              "      <th>m2</th>\n",
              "      <th>m3</th>\n",
              "      <th>m4</th>\n",
              "    </tr>\n",
              "  </thead>\n",
              "  <tbody>\n",
              "    <tr>\n",
              "      <th>0</th>\n",
              "      <td>0</td>\n",
              "      <td>114.940791</td>\n",
              "      <td>101.134589</td>\n",
              "      <td>101.530695</td>\n",
              "      <td>99.731016</td>\n",
              "    </tr>\n",
              "    <tr>\n",
              "      <th>1</th>\n",
              "      <td>1</td>\n",
              "      <td>97.948417</td>\n",
              "      <td>102.993725</td>\n",
              "      <td>104.302551</td>\n",
              "      <td>103.407506</td>\n",
              "    </tr>\n",
              "    <tr>\n",
              "      <th>2</th>\n",
              "      <td>2</td>\n",
              "      <td>103.130677</td>\n",
              "      <td>104.423216</td>\n",
              "      <td>99.051826</td>\n",
              "      <td>93.501676</td>\n",
              "    </tr>\n",
              "    <tr>\n",
              "      <th>3</th>\n",
              "      <td>3</td>\n",
              "      <td>91.459043</td>\n",
              "      <td>110.057777</td>\n",
              "      <td>97.040025</td>\n",
              "      <td>103.820954</td>\n",
              "    </tr>\n",
              "    <tr>\n",
              "      <th>4</th>\n",
              "      <td>4</td>\n",
              "      <td>74.470102</td>\n",
              "      <td>112.566178</td>\n",
              "      <td>86.772344</td>\n",
              "      <td>100.565457</td>\n",
              "    </tr>\n",
              "  </tbody>\n",
              "</table>\n",
              "</div>\n",
              "      <button class=\"colab-df-convert\" onclick=\"convertToInteractive('df-8b7dead5-9219-4df1-8890-b8bc9ef57bfa')\"\n",
              "              title=\"Convert this dataframe to an interactive table.\"\n",
              "              style=\"display:none;\">\n",
              "        \n",
              "  <svg xmlns=\"http://www.w3.org/2000/svg\" height=\"24px\"viewBox=\"0 0 24 24\"\n",
              "       width=\"24px\">\n",
              "    <path d=\"M0 0h24v24H0V0z\" fill=\"none\"/>\n",
              "    <path d=\"M18.56 5.44l.94 2.06.94-2.06 2.06-.94-2.06-.94-.94-2.06-.94 2.06-2.06.94zm-11 1L8.5 8.5l.94-2.06 2.06-.94-2.06-.94L8.5 2.5l-.94 2.06-2.06.94zm10 10l.94 2.06.94-2.06 2.06-.94-2.06-.94-.94-2.06-.94 2.06-2.06.94z\"/><path d=\"M17.41 7.96l-1.37-1.37c-.4-.4-.92-.59-1.43-.59-.52 0-1.04.2-1.43.59L10.3 9.45l-7.72 7.72c-.78.78-.78 2.05 0 2.83L4 21.41c.39.39.9.59 1.41.59.51 0 1.02-.2 1.41-.59l7.78-7.78 2.81-2.81c.8-.78.8-2.07 0-2.86zM5.41 20L4 18.59l7.72-7.72 1.47 1.35L5.41 20z\"/>\n",
              "  </svg>\n",
              "      </button>\n",
              "      \n",
              "  <style>\n",
              "    .colab-df-container {\n",
              "      display:flex;\n",
              "      flex-wrap:wrap;\n",
              "      gap: 12px;\n",
              "    }\n",
              "\n",
              "    .colab-df-convert {\n",
              "      background-color: #E8F0FE;\n",
              "      border: none;\n",
              "      border-radius: 50%;\n",
              "      cursor: pointer;\n",
              "      display: none;\n",
              "      fill: #1967D2;\n",
              "      height: 32px;\n",
              "      padding: 0 0 0 0;\n",
              "      width: 32px;\n",
              "    }\n",
              "\n",
              "    .colab-df-convert:hover {\n",
              "      background-color: #E2EBFA;\n",
              "      box-shadow: 0px 1px 2px rgba(60, 64, 67, 0.3), 0px 1px 3px 1px rgba(60, 64, 67, 0.15);\n",
              "      fill: #174EA6;\n",
              "    }\n",
              "\n",
              "    [theme=dark] .colab-df-convert {\n",
              "      background-color: #3B4455;\n",
              "      fill: #D2E3FC;\n",
              "    }\n",
              "\n",
              "    [theme=dark] .colab-df-convert:hover {\n",
              "      background-color: #434B5C;\n",
              "      box-shadow: 0px 1px 3px 1px rgba(0, 0, 0, 0.15);\n",
              "      filter: drop-shadow(0px 1px 2px rgba(0, 0, 0, 0.3));\n",
              "      fill: #FFFFFF;\n",
              "    }\n",
              "  </style>\n",
              "\n",
              "      <script>\n",
              "        const buttonEl =\n",
              "          document.querySelector('#df-8b7dead5-9219-4df1-8890-b8bc9ef57bfa button.colab-df-convert');\n",
              "        buttonEl.style.display =\n",
              "          google.colab.kernel.accessAllowed ? 'block' : 'none';\n",
              "\n",
              "        async function convertToInteractive(key) {\n",
              "          const element = document.querySelector('#df-8b7dead5-9219-4df1-8890-b8bc9ef57bfa');\n",
              "          const dataTable =\n",
              "            await google.colab.kernel.invokeFunction('convertToInteractive',\n",
              "                                                     [key], {});\n",
              "          if (!dataTable) return;\n",
              "\n",
              "          const docLinkHtml = 'Like what you see? Visit the ' +\n",
              "            '<a target=\"_blank\" href=https://colab.research.google.com/notebooks/data_table.ipynb>data table notebook</a>'\n",
              "            + ' to learn more about interactive tables.';\n",
              "          element.innerHTML = '';\n",
              "          dataTable['output_type'] = 'display_data';\n",
              "          await google.colab.output.renderOutput(dataTable, element);\n",
              "          const docLink = document.createElement('div');\n",
              "          docLink.innerHTML = docLinkHtml;\n",
              "          element.appendChild(docLink);\n",
              "        }\n",
              "      </script>\n",
              "    </div>\n",
              "  </div>\n",
              "  "
            ]
          },
          "metadata": {},
          "execution_count": 106
        }
      ]
    },
    {
      "cell_type": "code",
      "source": [
        "sns.boxplot(x=\"variable\", y=\"value\", data=pd.melt(df[['m1','m2','m3','m4']]))\n",
        "plt.title(\"Distribution of Rewards by Message\")"
      ],
      "metadata": {
        "colab": {
          "base_uri": "https://localhost:8080/",
          "height": 308
        },
        "id": "VaZditwVpLx6",
        "outputId": "c1920ecb-055a-4b63-ac37-9d8e99ad2fd3"
      },
      "execution_count": null,
      "outputs": [
        {
          "output_type": "execute_result",
          "data": {
            "text/plain": [
              "Text(0.5, 1.0, 'Distribution of Rewards by Message')"
            ]
          },
          "metadata": {},
          "execution_count": 107
        },
        {
          "output_type": "display_data",
          "data": {
            "text/plain": [
              "<Figure size 432x288 with 1 Axes>"
            ],
            "image/png": "[encoded data removed]"
          },
          "metadata": {
            "needs_background": "light"
          }
        }
      ]
    },
    {
      "cell_type": "code",
      "source": [
        "N = len(df.index)       \n",
        "d = 4                  \n",
        "Qt_a = 0\n",
        "Nt_a = np.zeros(d)\n",
        "c = 1                  \n",
        "sum_rewards = np.zeros(d) \n",
        "hist_t = []\n",
        "hist_achieved_rewards = [] \n",
        "hist_best_possible_rewards = [] \n",
        "hist_random_choice_rewards = []\n",
        "N"
      ],
      "metadata": {
        "colab": {
          "base_uri": "https://localhost:8080/"
        },
        "id": "nirGb89NpLvJ",
        "outputId": "f2ee5b4a-d5fd-4504-f0bc-42613ea673fd"
      },
      "execution_count": null,
      "outputs": [
        {
          "output_type": "execute_result",
          "data": {
            "text/plain": [
              "10000"
            ]
          },
          "metadata": {},
          "execution_count": 108
        }
      ]
    },
    {
      "cell_type": "code",
      "source": [
        "for t in range(0,N):\n",
        "    UCB_Values = np.zeros(d) \n",
        "    action_selected = 0\n",
        "    for a in range(0, d):\n",
        "        if (Nt_a[a] > 0):\n",
        "            ln_t = math.log(t)\n",
        "            hist_t.append(ln_t)\n",
        "            Qt_a = sum_rewards[a]/Nt_a[a]\n",
        "            ucb_value = Qt_a + c*(ln_t/Nt_a[a]) \n",
        "            UCB_Values[a] = ucb_value\n",
        "        elif (Nt_a[a] == 0):\n",
        "            UCB_Values[a] = 1e500\n",
        "        \n",
        "    action_selected = np.argmax(UCB_Values)\n",
        "    Nt_a[action_selected] += 1\n",
        "    reward = df.values[t, action_selected+1]\n",
        "    sum_rewards[action_selected] += reward"
      ],
      "metadata": {
        "id": "u6_yuzCkpLs9"
      },
      "execution_count": null,
      "outputs": []
    },
    {
      "cell_type": "code",
      "source": [
        "    r_ = df.values[t,[1,2,3,4]]     \n",
        "    r_best = r_[np.argmax(r_)]      \n",
        "    \n",
        "    pick_random = random.randrange(d)\n",
        "    r_random = r_[pick_random]\n",
        "    if len(hist_achieved_rewards)>0:\n",
        "        hist_achieved_rewards.append(hist_achieved_rewards[-1]+reward)\n",
        "        hist_best_possible_rewards.append(hist_best_possible_rewards[-1]+r_best)\n",
        "        hist_random_choice_rewards.append(hist_random_choice_rewards[-1]+r_random)\n",
        "    else:\n",
        "        hist_achieved_rewards.append(reward)\n",
        "        hist_best_possible_rewards.append(r_best)\n",
        "        hist_random_choice_rewards.append(r_random)"
      ],
      "metadata": {
        "id": "cQDnJvxppLp6"
      },
      "execution_count": null,
      "outputs": []
    },
    {
      "cell_type": "code",
      "source": [
        "print(\"Reward if we choose randonmly {0}\".format(hist_random_choice_rewards[-1]))\n",
        "print(\"Reward of our UCB method {0}\".format(hist_achieved_rewards[-1]))"
      ],
      "metadata": {
        "colab": {
          "base_uri": "https://localhost:8080/"
        },
        "id": "Wj-JnohDpLnL",
        "outputId": "9e0b0beb-2534-4095-e060-404faed3709f"
      },
      "execution_count": null,
      "outputs": [
        {
          "output_type": "stream",
          "name": "stdout",
          "text": [
            "Reward if we choose randonmly 96.58829751702206\n",
            "Reward of our UCB method 96.58829751702206\n"
          ]
        }
      ]
    },
    {
      "cell_type": "code",
      "source": [
        "plt.bar(['m1','m2','m3','m4'],Nt_a)\n",
        "plt.title(\"Number of times each Message was Selected\")"
      ],
      "metadata": {
        "colab": {
          "base_uri": "https://localhost:8080/",
          "height": 294
        },
        "id": "x7e0qU6OpLj7",
        "outputId": "90122c19-478a-4101-9720-8fb187f7d20e"
      },
      "execution_count": null,
      "outputs": [
        {
          "output_type": "execute_result",
          "data": {
            "text/plain": [
              "Text(0.5, 1.0, 'Number of times each Message was Selected')"
            ]
          },
          "metadata": {},
          "execution_count": 112
        },
        {
          "output_type": "display_data",
          "data": {
            "text/plain": [
              "<Figure size 432x288 with 1 Axes>"
            ],
            "image/png": "[encoded data removed]"
          },
          "metadata": {
            "needs_background": "light"
          }
        }
      ]
    },
    {
      "cell_type": "code",
      "source": [
        "#@title Part 2 Supervised Learning\n",
        "import numpy as np\n",
        "import pandas as pd\n",
        "\n",
        "import seaborn as sns\n",
        "import matplotlib.pyplot as plt \n",
        "%matplotlib inline\n",
        "\n",
        "# import SVC classifier\n",
        "from sklearn.svm import SVC\n",
        "\n",
        "# import metrics to compute accuracy (Evulate)\n",
        "from sklearn.metrics import accuracy_score, confusion_matrix,classification_report\n",
        "from sklearn.model_selection import cross_val_score, GridSearchCV"
      ],
      "metadata": {
        "id": "fFXbnsxQpLhe"
      },
      "execution_count": null,
      "outputs": []
    },
    {
      "cell_type": "code",
      "source": [
        "df_train = pd.read_excel(\"/content/Dataset.xlsx\")\n",
        "df_PartC = pd.read_excel(\"/content/Dataset.xlsx\")"
      ],
      "metadata": {
        "id": "gW08BfycpLek"
      },
      "execution_count": null,
      "outputs": []
    },
    {
      "cell_type": "code",
      "source": [
        "df_train.head()"
      ],
      "metadata": {
        "colab": {
          "base_uri": "https://localhost:8080/",
          "height": 270
        },
        "id": "IPXp0Tc7mxGC",
        "outputId": "7e3b5c37-18b2-41e6-f101-fba37d2d79c6"
      },
      "execution_count": null,
      "outputs": [
        {
          "output_type": "execute_result",
          "data": {
            "text/plain": [
              "   Range_L_hallux  St_Dev_L_hallux  Skewness_L_hallux  Kurtosis_L_hallux  \\\n",
              "0             558              192                  1                 -1   \n",
              "1            1971              401                  2                  6   \n",
              "2            1971              381                  2                  7   \n",
              "3            1827              469                  1                  0   \n",
              "4            1827              509                  0                 -1   \n",
              "\n",
              "   DFR_L_hallux  Entropy_L_hallux  Mean_L_toes  Range_L_toes  St_Dev_L_toes  \\\n",
              "0             0             -6714          277          1182            301   \n",
              "1             0            -19240          420          1761            507   \n",
              "2             0            -19344          566          1761            545   \n",
              "3             0            -26251          729          1849            613   \n",
              "4             0            -28205          870          1948            736   \n",
              "\n",
              "   DFR_L_mag_x       Label  \n",
              "0            1  downstairs  \n",
              "1            1  downstairs  \n",
              "2            1  downstairs  \n",
              "3            1  downstairs  \n",
              "4            1  downstairs  "
            ],
            "text/html": [
              "\n",
              "  <div id=\"df-10e6ce61-0592-4097-8b60-f706c2636e7b\">\n",
              "    <div class=\"colab-df-container\">\n",
              "      <div>\n",
              "<style scoped>\n",
              "    .dataframe tbody tr th:only-of-type {\n",
              "        vertical-align: middle;\n",
              "    }\n",
              "\n",
              "    .dataframe tbody tr th {\n",
              "        vertical-align: top;\n",
              "    }\n",
              "\n",
              "    .dataframe thead th {\n",
              "        text-align: right;\n",
              "    }\n",
              "</style>\n",
              "<table border=\"1\" class=\"dataframe\">\n",
              "  <thead>\n",
              "    <tr style=\"text-align: right;\">\n",
              "      <th></th>\n",
              "      <th>Range_L_hallux</th>\n",
              "      <th>St_Dev_L_hallux</th>\n",
              "      <th>Skewness_L_hallux</th>\n",
              "      <th>Kurtosis_L_hallux</th>\n",
              "      <th>DFR_L_hallux</th>\n",
              "      <th>Entropy_L_hallux</th>\n",
              "      <th>Mean_L_toes</th>\n",
              "      <th>Range_L_toes</th>\n",
              "      <th>St_Dev_L_toes</th>\n",
              "      <th>DFR_L_mag_x</th>\n",
              "      <th>Label</th>\n",
              "    </tr>\n",
              "  </thead>\n",
              "  <tbody>\n",
              "    <tr>\n",
              "      <th>0</th>\n",
              "      <td>558</td>\n",
              "      <td>192</td>\n",
              "      <td>1</td>\n",
              "      <td>-1</td>\n",
              "      <td>0</td>\n",
              "      <td>-6714</td>\n",
              "      <td>277</td>\n",
              "      <td>1182</td>\n",
              "      <td>301</td>\n",
              "      <td>1</td>\n",
              "      <td>downstairs</td>\n",
              "    </tr>\n",
              "    <tr>\n",
              "      <th>1</th>\n",
              "      <td>1971</td>\n",
              "      <td>401</td>\n",
              "      <td>2</td>\n",
              "      <td>6</td>\n",
              "      <td>0</td>\n",
              "      <td>-19240</td>\n",
              "      <td>420</td>\n",
              "      <td>1761</td>\n",
              "      <td>507</td>\n",
              "      <td>1</td>\n",
              "      <td>downstairs</td>\n",
              "    </tr>\n",
              "    <tr>\n",
              "      <th>2</th>\n",
              "      <td>1971</td>\n",
              "      <td>381</td>\n",
              "      <td>2</td>\n",
              "      <td>7</td>\n",
              "      <td>0</td>\n",
              "      <td>-19344</td>\n",
              "      <td>566</td>\n",
              "      <td>1761</td>\n",
              "      <td>545</td>\n",
              "      <td>1</td>\n",
              "      <td>downstairs</td>\n",
              "    </tr>\n",
              "    <tr>\n",
              "      <th>3</th>\n",
              "      <td>1827</td>\n",
              "      <td>469</td>\n",
              "      <td>1</td>\n",
              "      <td>0</td>\n",
              "      <td>0</td>\n",
              "      <td>-26251</td>\n",
              "      <td>729</td>\n",
              "      <td>1849</td>\n",
              "      <td>613</td>\n",
              "      <td>1</td>\n",
              "      <td>downstairs</td>\n",
              "    </tr>\n",
              "    <tr>\n",
              "      <th>4</th>\n",
              "      <td>1827</td>\n",
              "      <td>509</td>\n",
              "      <td>0</td>\n",
              "      <td>-1</td>\n",
              "      <td>0</td>\n",
              "      <td>-28205</td>\n",
              "      <td>870</td>\n",
              "      <td>1948</td>\n",
              "      <td>736</td>\n",
              "      <td>1</td>\n",
              "      <td>downstairs</td>\n",
              "    </tr>\n",
              "  </tbody>\n",
              "</table>\n",
              "</div>\n",
              "      <button class=\"colab-df-convert\" onclick=\"convertToInteractive('df-10e6ce61-0592-4097-8b60-f706c2636e7b')\"\n",
              "              title=\"Convert this dataframe to an interactive table.\"\n",
              "              style=\"display:none;\">\n",
              "        \n",
              "  <svg xmlns=\"http://www.w3.org/2000/svg\" height=\"24px\"viewBox=\"0 0 24 24\"\n",
              "       width=\"24px\">\n",
              "    <path d=\"M0 0h24v24H0V0z\" fill=\"none\"/>\n",
              "    <path d=\"M18.56 5.44l.94 2.06.94-2.06 2.06-.94-2.06-.94-.94-2.06-.94 2.06-2.06.94zm-11 1L8.5 8.5l.94-2.06 2.06-.94-2.06-.94L8.5 2.5l-.94 2.06-2.06.94zm10 10l.94 2.06.94-2.06 2.06-.94-2.06-.94-.94-2.06-.94 2.06-2.06.94z\"/><path d=\"M17.41 7.96l-1.37-1.37c-.4-.4-.92-.59-1.43-.59-.52 0-1.04.2-1.43.59L10.3 9.45l-7.72 7.72c-.78.78-.78 2.05 0 2.83L4 21.41c.39.39.9.59 1.41.59.51 0 1.02-.2 1.41-.59l7.78-7.78 2.81-2.81c.8-.78.8-2.07 0-2.86zM5.41 20L4 18.59l7.72-7.72 1.47 1.35L5.41 20z\"/>\n",
              "  </svg>\n",
              "      </button>\n",
              "      \n",
              "  <style>\n",
              "    .colab-df-container {\n",
              "      display:flex;\n",
              "      flex-wrap:wrap;\n",
              "      gap: 12px;\n",
              "    }\n",
              "\n",
              "    .colab-df-convert {\n",
              "      background-color: #E8F0FE;\n",
              "      border: none;\n",
              "      border-radius: 50%;\n",
              "      cursor: pointer;\n",
              "      display: none;\n",
              "      fill: #1967D2;\n",
              "      height: 32px;\n",
              "      padding: 0 0 0 0;\n",
              "      width: 32px;\n",
              "    }\n",
              "\n",
              "    .colab-df-convert:hover {\n",
              "      background-color: #E2EBFA;\n",
              "      box-shadow: 0px 1px 2px rgba(60, 64, 67, 0.3), 0px 1px 3px 1px rgba(60, 64, 67, 0.15);\n",
              "      fill: #174EA6;\n",
              "    }\n",
              "\n",
              "    [theme=dark] .colab-df-convert {\n",
              "      background-color: #3B4455;\n",
              "      fill: #D2E3FC;\n",
              "    }\n",
              "\n",
              "    [theme=dark] .colab-df-convert:hover {\n",
              "      background-color: #434B5C;\n",
              "      box-shadow: 0px 1px 3px 1px rgba(0, 0, 0, 0.15);\n",
              "      filter: drop-shadow(0px 1px 2px rgba(0, 0, 0, 0.3));\n",
              "      fill: #FFFFFF;\n",
              "    }\n",
              "  </style>\n",
              "\n",
              "      <script>\n",
              "        const buttonEl =\n",
              "          document.querySelector('#df-10e6ce61-0592-4097-8b60-f706c2636e7b button.colab-df-convert');\n",
              "        buttonEl.style.display =\n",
              "          google.colab.kernel.accessAllowed ? 'block' : 'none';\n",
              "\n",
              "        async function convertToInteractive(key) {\n",
              "          const element = document.querySelector('#df-10e6ce61-0592-4097-8b60-f706c2636e7b');\n",
              "          const dataTable =\n",
              "            await google.colab.kernel.invokeFunction('convertToInteractive',\n",
              "                                                     [key], {});\n",
              "          if (!dataTable) return;\n",
              "\n",
              "          const docLinkHtml = 'Like what you see? Visit the ' +\n",
              "            '<a target=\"_blank\" href=https://colab.research.google.com/notebooks/data_table.ipynb>data table notebook</a>'\n",
              "            + ' to learn more about interactive tables.';\n",
              "          element.innerHTML = '';\n",
              "          dataTable['output_type'] = 'display_data';\n",
              "          await google.colab.output.renderOutput(dataTable, element);\n",
              "          const docLink = document.createElement('div');\n",
              "          docLink.innerHTML = docLinkHtml;\n",
              "          element.appendChild(docLink);\n",
              "        }\n",
              "      </script>\n",
              "    </div>\n",
              "  </div>\n",
              "  "
            ]
          },
          "metadata": {},
          "execution_count": 179
        }
      ]
    },
    {
      "cell_type": "code",
      "source": [
        "df_train.isnull().values.any()"
      ],
      "metadata": {
        "colab": {
          "base_uri": "https://localhost:8080/"
        },
        "id": "PWm3gynFuoAj",
        "outputId": "326d7b9d-ab82-4544-9b1d-693e4294acd9"
      },
      "execution_count": null,
      "outputs": [
        {
          "output_type": "execute_result",
          "data": {
            "text/plain": [
              "False"
            ]
          },
          "metadata": {},
          "execution_count": 180
        }
      ]
    },
    {
      "cell_type": "code",
      "source": [
        "df_train.isnull().any().any()"
      ],
      "metadata": {
        "colab": {
          "base_uri": "https://localhost:8080/"
        },
        "id": "W-ZvkGMzFL7X",
        "outputId": "b39f2f54-48d3-49cc-b67e-08c176a3fd1b"
      },
      "execution_count": null,
      "outputs": [
        {
          "output_type": "execute_result",
          "data": {
            "text/plain": [
              "False"
            ]
          },
          "metadata": {},
          "execution_count": 181
        }
      ]
    },
    {
      "cell_type": "code",
      "source": [
        "df_train[\"Label\"].unique()"
      ],
      "metadata": {
        "colab": {
          "base_uri": "https://localhost:8080/"
        },
        "id": "WK1cqFnVun9y",
        "outputId": "8c018fc2-8341-4059-8039-d72aca61ab2e"
      },
      "execution_count": null,
      "outputs": [
        {
          "output_type": "execute_result",
          "data": {
            "text/plain": [
              "array(['downstairs', 'upstairs', 'walking', 'spinning_bike'], dtype=object)"
            ]
          },
          "metadata": {},
          "execution_count": 182
        }
      ]
    },
    {
      "cell_type": "code",
      "source": [
        "halluxmax=df_train['Range_L_hallux'].max(skipna = False)\n",
        "halluxmin=df_train['Range_L_hallux'].min(skipna = False)\n",
        "print(\"The range of values for tbodyAccmean()-X are: \")\n",
        "print(\"Max value: \",halluxmax)\n",
        "print(\"Min value: \",halluxmin)"
      ],
      "metadata": {
        "colab": {
          "base_uri": "https://localhost:8080/"
        },
        "id": "IP--Hvehun7O",
        "outputId": "4dbaf822-40a6-4ba4-ebf1-446e223ffda4"
      },
      "execution_count": null,
      "outputs": [
        {
          "output_type": "stream",
          "name": "stdout",
          "text": [
            "The range of values for tbodyAccmean()-X are: \n",
            "Max value:  2285\n",
            "Min value:  0\n"
          ]
        }
      ]
    },
    {
      "cell_type": "code",
      "source": [
        "Skewness_L_halluxMax=df_train['Skewness_L_hallux'].max(skipna = False)\n",
        "Skewness_L_halluxMin=df_train['Skewness_L_hallux'].min(skipna = False)\n",
        "print(\"The range of values for tgravityAcc-mean()-X are: \")\n",
        "print(\"Max value: \",Skewness_L_halluxMax)\n",
        "print(\"Min value: \",Skewness_L_halluxMin)"
      ],
      "metadata": {
        "colab": {
          "base_uri": "https://localhost:8080/"
        },
        "id": "HOQBq7blun4O",
        "outputId": "45228203-5b71-4849-9627-ed51b3821e39"
      },
      "execution_count": null,
      "outputs": [
        {
          "output_type": "stream",
          "name": "stdout",
          "text": [
            "The range of values for tgravityAcc-mean()-X are: \n",
            "Max value:  9\n",
            "Min value:  -3\n"
          ]
        }
      ]
    },
    {
      "cell_type": "code",
      "source": [
        "plt.figure(figsize=(7,7))\n",
        "sns.boxplot(x='Label', y='Range_L_hallux',data=df_train, showfliers=False, saturation=1)\n",
        "plt.ylabel('Acceleration Magnitude mean')\n",
        "plt.axhline(y=-0.7, xmin=0.1, xmax=0.9,dashes=(5,5), c='g')\n",
        "plt.axhline(y=-0.05, xmin=0.4, dashes=(5,5), c='m')\n",
        "plt.xticks(rotation=90)\n",
        "plt.show()"
      ],
      "metadata": {
        "colab": {
          "base_uri": "https://localhost:8080/",
          "height": 490
        },
        "id": "W35VOtyBun1j",
        "outputId": "0775aa3b-5ff0-4e8a-8fdb-24402dab2cd6"
      },
      "execution_count": null,
      "outputs": [
        {
          "output_type": "display_data",
          "data": {
            "text/plain": [
              "<Figure size 504x504 with 1 Axes>"
            ],
            "image/png": "[encoded data removed]"
          },
          "metadata": {
            "needs_background": "light"
          }
        }
      ]
    },
    {
      "cell_type": "code",
      "source": [
        "sns.boxplot(x='Label', y='Skewness_L_hallux', data=df_train)\n",
        "plt.axhline(y=0.08, xmin=0.1, xmax=0.9,c='m',dashes=(5,3))\n",
        "plt.title('Angle between X-axis and Gravity_mean', fontsize=15)\n",
        "plt.xticks(rotation = 40)\n",
        "plt.show()"
      ],
      "metadata": {
        "colab": {
          "base_uri": "https://localhost:8080/",
          "height": 330
        },
        "id": "UgcvgZ2nunyH",
        "outputId": "6ff6d13f-3d76-45b2-da21-0a4490c71560"
      },
      "execution_count": null,
      "outputs": [
        {
          "output_type": "display_data",
          "data": {
            "text/plain": [
              "<Figure size 432x288 with 1 Axes>"
            ],
            "image/png": "[encoded data removed]"
          },
          "metadata": {
            "needs_background": "light"
          }
        }
      ]
    },
    {
      "cell_type": "code",
      "source": [
        "#Creating a dataframe of Walking activity \n",
        "walkingactivity=df_train[df_train['Label']=='walking']\n",
        "#For walking \n",
        "Mean_L_toesMax=walkingactivity['Mean_L_toes'].max(skipna = False)\n",
        "Mean_L_toesMin=walkingactivity['Mean_L_toes'].min(skipna = False)\n",
        "print(\"The range of values for Mean_L_toes of 'walking' activity are: \")\n",
        "print(\"Max value: \",Mean_L_toesMax)\n",
        "print(\"Min value: \",Mean_L_toesMin)"
      ],
      "metadata": {
        "colab": {
          "base_uri": "https://localhost:8080/"
        },
        "id": "Wv1I9U2funro",
        "outputId": "ecbdf771-0b3c-4757-fb16-6c00ab6e2746"
      },
      "execution_count": null,
      "outputs": [
        {
          "output_type": "stream",
          "name": "stdout",
          "text": [
            "The range of values for Mean_L_toes of 'walking' activity are: \n",
            "Max value:  354\n",
            "Min value:  136\n"
          ]
        }
      ]
    },
    {
      "cell_type": "code",
      "source": [
        "plt.figure(figsize=(10,5))\n",
        "ax = sns.countplot(x=\"Label\", data=df_train)\n",
        "plt.xticks(x = df_train['Label'],  rotation='vertical')\n",
        "plt.show()"
      ],
      "metadata": {
        "colab": {
          "base_uri": "https://localhost:8080/",
          "height": 381
        },
        "id": "w_DnmSraunn2",
        "outputId": "b91ec7b4-2051-4b55-94ae-285eb7584e69"
      },
      "execution_count": null,
      "outputs": [
        {
          "output_type": "display_data",
          "data": {
            "text/plain": [
              "<Figure size 720x360 with 1 Axes>"
            ],
            "image/png": "[encoded data removed]"
          },
          "metadata": {
            "needs_background": "light"
          }
        }
      ]
    },
    {
      "cell_type": "code",
      "source": [
        "df_train[\"DFR_L_mag_x\"].unique()"
      ],
      "metadata": {
        "colab": {
          "base_uri": "https://localhost:8080/"
        },
        "id": "A5vlO4neunjv",
        "outputId": "d6967334-8ae1-42fa-8262-ee748facd293"
      },
      "execution_count": null,
      "outputs": [
        {
          "output_type": "execute_result",
          "data": {
            "text/plain": [
              "array([1])"
            ]
          },
          "metadata": {},
          "execution_count": 189
        }
      ]
    },
    {
      "cell_type": "code",
      "source": [
        "X = pd.DataFrame(df_train.drop(['Label','DFR_L_mag_x'],axis=1))\n",
        "Y = df_train.Label.values.astype(object)\n",
        "\n",
        "X.shape, Y.shape"
      ],
      "metadata": {
        "colab": {
          "base_uri": "https://localhost:8080/"
        },
        "id": "ZRRzTSFsunf2",
        "outputId": "f9ab68cc-815d-443e-beb1-a58b048f7d49"
      },
      "execution_count": null,
      "outputs": [
        {
          "output_type": "execute_result",
          "data": {
            "text/plain": [
              "((1200, 9), (1200,))"
            ]
          },
          "metadata": {},
          "execution_count": 190
        }
      ]
    },
    {
      "cell_type": "code",
      "source": [
        "from sklearn import preprocessing\n",
        "encoder = preprocessing.LabelEncoder()"
      ],
      "metadata": {
        "id": "wiUmiyJXunap"
      },
      "execution_count": null,
      "outputs": []
    },
    {
      "cell_type": "code",
      "source": [
        "# encoding train labels \n",
        "encoder.fit(Y)\n",
        "y = encoder.transform(Y)\n",
        "y.shape"
      ],
      "metadata": {
        "colab": {
          "base_uri": "https://localhost:8080/"
        },
        "id": "sdG98KYAunWi",
        "outputId": "2a97bd4c-01ba-42e6-8fa4-65b1f7870fad"
      },
      "execution_count": null,
      "outputs": [
        {
          "output_type": "execute_result",
          "data": {
            "text/plain": [
              "(1200,)"
            ]
          },
          "metadata": {},
          "execution_count": 192
        }
      ]
    },
    {
      "cell_type": "code",
      "source": [
        "y[1]"
      ],
      "metadata": {
        "colab": {
          "base_uri": "https://localhost:8080/"
        },
        "id": "e4Ys6hOUunR_",
        "outputId": "363b66db-ee1b-4497-9749-2f22e97f6e5f"
      },
      "execution_count": null,
      "outputs": [
        {
          "output_type": "execute_result",
          "data": {
            "text/plain": [
              "0"
            ]
          },
          "metadata": {},
          "execution_count": 193
        }
      ]
    },
    {
      "cell_type": "code",
      "source": [
        "encoder.classes_"
      ],
      "metadata": {
        "colab": {
          "base_uri": "https://localhost:8080/"
        },
        "id": "cv_EevjHunL1",
        "outputId": "72c2f567-32c3-4a2f-c848-4663ea256232"
      },
      "execution_count": null,
      "outputs": [
        {
          "output_type": "execute_result",
          "data": {
            "text/plain": [
              "array(['downstairs', 'spinning_bike', 'upstairs', 'walking'], dtype=object)"
            ]
          },
          "metadata": {},
          "execution_count": 194
        }
      ]
    },
    {
      "cell_type": "code",
      "source": [
        "#@title Feature Scaling\n",
        "from sklearn.preprocessing import StandardScaler\n",
        "scaler = StandardScaler()"
      ],
      "metadata": {
        "id": "Vp30O0a_Dqki"
      },
      "execution_count": null,
      "outputs": []
    },
    {
      "cell_type": "code",
      "source": [
        "X = scaler.fit_transform(X)\n",
        "X[1]"
      ],
      "metadata": {
        "colab": {
          "base_uri": "https://localhost:8080/"
        },
        "id": "6ecVKr6vDsuv",
        "outputId": "934c1570-cc05-4534-eb14-f20989cbb7d8"
      },
      "execution_count": null,
      "outputs": [
        {
          "output_type": "execute_result",
          "data": {
            "text/plain": [
              "array([ 1.85241246,  1.18077064,  0.69669435,  0.37832937,  0.        ,\n",
              "       -1.37070192,  0.95446268,  1.04169954,  0.95976374])"
            ]
          },
          "metadata": {},
          "execution_count": 196
        }
      ]
    },
    {
      "cell_type": "code",
      "source": [
        "from sklearn.model_selection import train_test_split\n",
        "import numpy as np\n",
        "X_train, X_valid, y_train, y_valid = train_test_split(X, y, test_size = 0.2, random_state = 99)\n",
        "X_train.shape, X_valid.shape, y_train.shape, y_valid.shape"
      ],
      "metadata": {
        "colab": {
          "base_uri": "https://localhost:8080/"
        },
        "id": "AghH40ViD374",
        "outputId": "3d345452-f364-4ccb-b9eb-1794e228de57"
      },
      "execution_count": null,
      "outputs": [
        {
          "output_type": "execute_result",
          "data": {
            "text/plain": [
              "((960, 9), (240, 9), (960,), (240,))"
            ]
          },
          "metadata": {},
          "execution_count": 197
        }
      ]
    },
    {
      "cell_type": "code",
      "source": [
        "svc = SVC() "
      ],
      "metadata": {
        "id": "l-D89NOyD6fn"
      },
      "execution_count": null,
      "outputs": []
    },
    {
      "cell_type": "code",
      "source": [
        "np.any(np.isnan(X_train)) #true\n",
        "np.all(np.isfinite(X_train)) #false"
      ],
      "metadata": {
        "colab": {
          "base_uri": "https://localhost:8080/"
        },
        "id": "Fr9geIaoEfRL",
        "outputId": "6886f5f7-f940-4f2f-97d3-46a2fb10efa8"
      },
      "execution_count": null,
      "outputs": [
        {
          "output_type": "execute_result",
          "data": {
            "text/plain": [
              "True"
            ]
          },
          "metadata": {},
          "execution_count": 199
        }
      ]
    },
    {
      "cell_type": "code",
      "source": [
        "np.isnan(df_train.any()) #and gets False\n",
        "np.isfinite(df_train.all()) #and gets True"
      ],
      "metadata": {
        "colab": {
          "base_uri": "https://localhost:8080/"
        },
        "id": "B-V5ISWTJCOa",
        "outputId": "325811e2-5307-48e9-b9ec-e1703d5beb27"
      },
      "execution_count": null,
      "outputs": [
        {
          "output_type": "execute_result",
          "data": {
            "text/plain": [
              "Range_L_hallux       True\n",
              "St_Dev_L_hallux      True\n",
              "Skewness_L_hallux    True\n",
              "Kurtosis_L_hallux    True\n",
              "DFR_L_hallux         True\n",
              "Entropy_L_hallux     True\n",
              "Mean_L_toes          True\n",
              "Range_L_toes         True\n",
              "St_Dev_L_toes        True\n",
              "DFR_L_mag_x          True\n",
              "Label                True\n",
              "dtype: bool"
            ]
          },
          "metadata": {},
          "execution_count": 200
        }
      ]
    },
    {
      "cell_type": "code",
      "source": [
        "# X_train = X_train.astype(np.float64)\n",
        "# y_train = y_train.astype(np.float64)"
      ],
      "metadata": {
        "id": "mFuWKT7UFr6f"
      },
      "execution_count": null,
      "outputs": []
    },
    {
      "cell_type": "code",
      "source": [
        "df_train.replace([np.inf, -np.inf], np.nan, inplace=True)\n",
        "df_train.fillna(999, inplace=True)"
      ],
      "metadata": {
        "id": "lY3KXuYzKZAB"
      },
      "execution_count": null,
      "outputs": []
    },
    {
      "cell_type": "code",
      "source": [
        "svc.fit(X_train,y_train)"
      ],
      "metadata": {
        "colab": {
          "base_uri": "https://localhost:8080/"
        },
        "id": "4EW_foQsD7uf",
        "outputId": "c937377b-4e18-4229-cb75-8b62281c8df4"
      },
      "execution_count": null,
      "outputs": [
        {
          "output_type": "execute_result",
          "data": {
            "text/plain": [
              "SVC()"
            ]
          },
          "metadata": {},
          "execution_count": 203
        }
      ]
    },
    {
      "cell_type": "code",
      "source": [
        "y_pred = svc.predict(X_valid)"
      ],
      "metadata": {
        "id": "sfPUn_VMSfpd"
      },
      "execution_count": null,
      "outputs": []
    },
    {
      "cell_type": "code",
      "source": [
        "print('Model accuracy For SVM: {0:0.4f}'. format(accuracy_score(y_valid, y_pred)))\n",
        "acc1 = accuracy_score(y_valid, y_pred)*100"
      ],
      "metadata": {
        "colab": {
          "base_uri": "https://localhost:8080/"
        },
        "id": "-JMeh9NcSiIS",
        "outputId": "767facb2-3324-414d-cf99-6d352a51083a"
      },
      "execution_count": null,
      "outputs": [
        {
          "output_type": "stream",
          "name": "stdout",
          "text": [
            "Model accuracy For SVM: 0.8292\n"
          ]
        }
      ]
    },
    {
      "cell_type": "code",
      "source": [
        "\n",
        "from sklearn.neighbors import KNeighborsClassifier\n",
        "knn = KNeighborsClassifier(n_neighbors=7)\n",
        "knn.fit(X_train, y_train)"
      ],
      "metadata": {
        "colab": {
          "base_uri": "https://localhost:8080/"
        },
        "id": "zndfwFhASjwO",
        "outputId": "bc590b7a-14dd-4bcc-ecf1-0fe81b1b1b40"
      },
      "execution_count": null,
      "outputs": [
        {
          "output_type": "execute_result",
          "data": {
            "text/plain": [
              "KNeighborsClassifier(n_neighbors=7)"
            ]
          },
          "metadata": {},
          "execution_count": 206
        }
      ]
    },
    {
      "cell_type": "code",
      "source": [
        "y_pred_KNN = knn.predict(X_valid)"
      ],
      "metadata": {
        "id": "q9s6ZvL3S3ar"
      },
      "execution_count": null,
      "outputs": []
    },
    {
      "cell_type": "code",
      "source": [
        "print('Model accuracy KNN: {0:0.4f}'. format(accuracy_score(y_valid, y_pred_KNN)))\n",
        "acc2 = accuracy_score(y_valid, y_pred_KNN)*100"
      ],
      "metadata": {
        "colab": {
          "base_uri": "https://localhost:8080/"
        },
        "id": "CBlOBleAS8-l",
        "outputId": "815c5214-b48d-48e5-e69b-90de3b9065cd"
      },
      "execution_count": null,
      "outputs": [
        {
          "output_type": "stream",
          "name": "stdout",
          "text": [
            "Model accuracy KNN: 0.8333\n"
          ]
        }
      ]
    },
    {
      "cell_type": "code",
      "source": [
        "from sklearn.metrics import confusion_matrix\n",
        "import xgboost as xgb\n",
        "my_model = xgb.XGBClassifier()\n",
        "my_model.fit(X_train, y_train)\n",
        "y_pred_XGB = my_model.predict(X_valid)"
      ],
      "metadata": {
        "id": "6c_M9r1tTBC9"
      },
      "execution_count": null,
      "outputs": []
    },
    {
      "cell_type": "code",
      "source": [
        "print('Model accuracy of XGB: {0:0.4f}'. format(accuracy_score(y_valid, y_pred_XGB)))\n",
        "acc3 = accuracy_score(y_valid, y_pred_XGB)*100"
      ],
      "metadata": {
        "colab": {
          "base_uri": "https://localhost:8080/"
        },
        "id": "vq9KrwPgTaY1",
        "outputId": "5b96c383-ad21-49b7-b88e-15fe3a672a12"
      },
      "execution_count": null,
      "outputs": [
        {
          "output_type": "stream",
          "name": "stdout",
          "text": [
            "Model accuracy of XGB: 0.8958\n"
          ]
        }
      ]
    },
    {
      "cell_type": "code",
      "source": [
        "plt.figure(figsize=(20,15))\n",
        "\n",
        "left_acc = [1,2,3]\n",
        "height_acc = [acc1,acc2,acc3]\n",
        "tick_label_acc = ['SVM','KNN','XGB']\n",
        "\n",
        "plt.subplot(2,2,1);\n",
        "plt.bar(left_acc, height_acc, tick_label=tick_label_acc, width=0.2, color = ['green', 'red','blue']);\n",
        "plt.xlabel(\"Classifiers\");\n",
        "plt.ylabel('Accuracy');\n",
        "plt.title('Comparison of accuracy of different models')\n",
        "\n",
        "plt.show()"
      ],
      "metadata": {
        "colab": {
          "base_uri": "https://localhost:8080/",
          "height": 444
        },
        "id": "TevYqHeITiGE",
        "outputId": "365541ae-70e6-416e-8d26-4a0b804a962f"
      },
      "execution_count": null,
      "outputs": [
        {
          "output_type": "display_data",
          "data": {
            "text/plain": [
              "<Figure size 1440x1080 with 1 Axes>"
            ],
            "image/png": "[encoded data removed]"
          },
          "metadata": {
            "needs_background": "light"
          }
        }
      ]
    },
    {
      "cell_type": "markdown",
      "source": [
        "## Summary\n",
        "As for the result the XGB is clearly generating more accuracy than KNN and Svm for this dataset and the graphs is shown the accuracy on the y-axix and classifier on the x-axis."
      ],
      "metadata": {
        "id": "sWcxuh6r6Zzg"
      }
    },
    {
      "cell_type": "code",
      "source": [
        "import numpy as np\n",
        "from scipy.cluster.vq import whiten, kmeans, vq, kmeans2"
      ],
      "metadata": {
        "id": "T48VL9dlYBj4"
      },
      "execution_count": null,
      "outputs": []
    },
    {
      "cell_type": "code",
      "source": [
        "\n",
        "print(df_train)"
      ],
      "metadata": {
        "colab": {
          "base_uri": "https://localhost:8080/"
        },
        "id": "WdA_RZxvjd0h",
        "outputId": "8c4c4e44-a3c0-4bae-b858-992b9d8b4a43"
      },
      "execution_count": null,
      "outputs": [
        {
          "output_type": "stream",
          "name": "stdout",
          "text": [
            "      Range_L_hallux  St_Dev_L_hallux  Skewness_L_hallux  Kurtosis_L_hallux  \\\n",
            "0                558              192                  1                 -1   \n",
            "1               1971              401                  2                  6   \n",
            "2               1971              381                  2                  7   \n",
            "3               1827              469                  1                  0   \n",
            "4               1827              509                  0                 -1   \n",
            "...              ...              ...                ...                ...   \n",
            "1195             132               41                  2                  2   \n",
            "1196             131               35                  2                  5   \n",
            "1197             128               31                  3                  7   \n",
            "1198             128               34                  2                  5   \n",
            "1199             128               40                  2                  2   \n",
            "\n",
            "      DFR_L_hallux  Entropy_L_hallux  Mean_L_toes  Range_L_toes  \\\n",
            "0                0             -6714          277          1182   \n",
            "1                0            -19240          420          1761   \n",
            "2                0            -19344          566          1761   \n",
            "3                0            -26251          729          1849   \n",
            "4                0            -28205          870          1948   \n",
            "...            ...               ...          ...           ...   \n",
            "1195             0              -955           19           138   \n",
            "1196             0              -752           22           138   \n",
            "1197             0              -614           23           131   \n",
            "1198             0              -699           28           134   \n",
            "1199             0              -882           15           134   \n",
            "\n",
            "      St_Dev_L_toes  DFR_L_mag_x          Label  \n",
            "0               301            1     downstairs  \n",
            "1               507            1     downstairs  \n",
            "2               545            1     downstairs  \n",
            "3               613            1     downstairs  \n",
            "4               736            1     downstairs  \n",
            "...             ...          ...            ...  \n",
            "1195             44            1  spinning_bike  \n",
            "1196             45            1  spinning_bike  \n",
            "1197             44            1  spinning_bike  \n",
            "1198             47            1  spinning_bike  \n",
            "1199             37            1  spinning_bike  \n",
            "\n",
            "[1200 rows x 11 columns]\n"
          ]
        }
      ]
    },
    {
      "cell_type": "code",
      "source": [
        "dataset = df_train\n",
        "  \n",
        "print(\"Data :\\n\", dataset, \"\\n\")"
      ],
      "metadata": {
        "colab": {
          "base_uri": "https://localhost:8080/"
        },
        "id": "yyVv0bqFjds8",
        "outputId": "63369abf-15b8-4d13-a4cf-5788081fe0d2"
      },
      "execution_count": null,
      "outputs": [
        {
          "output_type": "stream",
          "name": "stdout",
          "text": [
            "Data :\n",
            "       Range_L_hallux  St_Dev_L_hallux  Skewness_L_hallux  Kurtosis_L_hallux  \\\n",
            "0                558              192                  1                 -1   \n",
            "1               1971              401                  2                  6   \n",
            "2               1971              381                  2                  7   \n",
            "3               1827              469                  1                  0   \n",
            "4               1827              509                  0                 -1   \n",
            "...              ...              ...                ...                ...   \n",
            "1195             132               41                  2                  2   \n",
            "1196             131               35                  2                  5   \n",
            "1197             128               31                  3                  7   \n",
            "1198             128               34                  2                  5   \n",
            "1199             128               40                  2                  2   \n",
            "\n",
            "      DFR_L_hallux  Entropy_L_hallux  Mean_L_toes  Range_L_toes  \\\n",
            "0                0             -6714          277          1182   \n",
            "1                0            -19240          420          1761   \n",
            "2                0            -19344          566          1761   \n",
            "3                0            -26251          729          1849   \n",
            "4                0            -28205          870          1948   \n",
            "...            ...               ...          ...           ...   \n",
            "1195             0              -955           19           138   \n",
            "1196             0              -752           22           138   \n",
            "1197             0              -614           23           131   \n",
            "1198             0              -699           28           134   \n",
            "1199             0              -882           15           134   \n",
            "\n",
            "      St_Dev_L_toes  DFR_L_mag_x          Label  \n",
            "0               301            1     downstairs  \n",
            "1               507            1     downstairs  \n",
            "2               545            1     downstairs  \n",
            "3               613            1     downstairs  \n",
            "4               736            1     downstairs  \n",
            "...             ...          ...            ...  \n",
            "1195             44            1  spinning_bike  \n",
            "1196             45            1  spinning_bike  \n",
            "1197             44            1  spinning_bike  \n",
            "1198             47            1  spinning_bike  \n",
            "1199             37            1  spinning_bike  \n",
            "\n",
            "[1200 rows x 11 columns] \n",
            "\n"
          ]
        }
      ]
    },
    {
      "cell_type": "code",
      "source": [
        "import numpy as np\n",
        "import pandas as pd\n",
        "import matplotlib.pyplot as plt\n",
        "import sys"
      ],
      "metadata": {
        "id": "J-bpkMuFjdj9"
      },
      "execution_count": null,
      "outputs": []
    },
    {
      "cell_type": "code",
      "source": [
        "# function to plot the selected centroids\n",
        "def plot(df_PartC, centroids):\n",
        "    plt.scatter(df_PartC[:, 0], df_PartC[:, 1], marker = '.',\n",
        "                color = 'gray', label = 'data points')\n",
        "    plt.scatter(centroids[:-1, 0], centroids[:-1, 1],\n",
        "                color = 'black', label = 'previously selected centroids')\n",
        "    plt.scatter(centroids[-1, 0], centroids[-1, 1],\n",
        "                color = 'red', label = 'next centroid')\n",
        "    plt.title('Select % d th centroid'%(centroids.shape[0]))\n",
        "     \n",
        "    plt.legend()\n",
        "    plt.xlim(-5, 12)\n",
        "    plt.ylim(-10, 15)\n",
        "    plt.show()\n",
        "\n",
        "def distance(p1, p2):\n",
        "    return np.sum((p1 - p2)**2)  "
      ],
      "metadata": {
        "id": "Svhm-_IjmfkM"
      },
      "execution_count": null,
      "outputs": []
    },
    {
      "cell_type": "code",
      "source": [
        "df_PartC = df_PartC.iloc[:,:-1].values"
      ],
      "metadata": {
        "id": "j_7tKU-oyfqZ"
      },
      "execution_count": null,
      "outputs": []
    },
    {
      "cell_type": "code",
      "source": [
        "def initialize(data, k):\n",
        "    centroids = []\n",
        "    centroids.append(data[np.random.randint(df_PartC.shape[0]), :])\n",
        "    plot(data, np.array(centroids))\n",
        "\n",
        "    for c_id in range(k - 1):\n",
        "         \n",
        "        dist = []\n",
        "        for i in range(data.shape[0]):\n",
        "            point = data[i, :]\n",
        "            d = sys.maxsize\n",
        "            for j in range(len(centroids)):\n",
        "                temp_dist = distance(point, centroids[j])\n",
        "                d = min(d, temp_dist)\n",
        "            dist.append(d)\n",
        "        dist = np.array(dist)\n",
        "        next_centroid = df_PartC[np.argmax(dist), :]\n",
        "        centroids.append(next_centroid)\n",
        "        dist = []\n",
        "        plot(data, np.array(centroids))\n",
        "    return centroids\n",
        "  \n",
        "# call the initialize function to get the centroids\n",
        "centroids = initialize(df_PartC, k = 4)"
      ],
      "metadata": {
        "colab": {
          "base_uri": "https://localhost:8080/",
          "height": 1000
        },
        "id": "kAqK60dXjdhQ",
        "outputId": "c3536a1c-d3c8-4344-fbe4-39970a531320"
      },
      "execution_count": null,
      "outputs": [
        {
          "output_type": "display_data",
          "data": {
            "text/plain": [
              "<Figure size 432x288 with 1 Axes>"
            ],
            "image/png": "[encoded data removed]"
          },
          "metadata": {
            "needs_background": "light"
          }
        },
        {
          "output_type": "display_data",
          "data": {
            "text/plain": [
              "<Figure size 432x288 with 1 Axes>"
            ],
            "image/png": "[encoded data removed]"
          },
          "metadata": {
            "needs_background": "light"
          }
        },
        {
          "output_type": "display_data",
          "data": {
            "text/plain": [
              "<Figure size 432x288 with 1 Axes>"
            ],
            "image/png": "[encoded data removed]"
          },
          "metadata": {
            "needs_background": "light"
          }
        },
        {
          "output_type": "display_data",
          "data": {
            "text/plain": [
              "<Figure size 432x288 with 1 Axes>"
            ],
            "image/png": "[encoded data removed]"
          },
          "metadata": {
            "needs_background": "light"
          }
        }
      ]
    },
    {
      "cell_type": "code",
      "source": [
        "df_PartC.fillna(method ='ffill', inplace = True)\n",
        "df_PartC.head()"
      ],
      "metadata": {
        "colab": {
          "base_uri": "https://localhost:8080/",
          "height": 270
        },
        "id": "LoAV6a-JzViu",
        "outputId": "c011ac93-5324-4dc6-8110-c354f7fe87b8"
      },
      "execution_count": null,
      "outputs": [
        {
          "output_type": "execute_result",
          "data": {
            "text/plain": [
              "   Range_L_hallux  St_Dev_L_hallux  Skewness_L_hallux  Kurtosis_L_hallux  \\\n",
              "0             558              192                  1                 -1   \n",
              "1            1971              401                  2                  6   \n",
              "2            1971              381                  2                  7   \n",
              "3            1827              469                  1                  0   \n",
              "4            1827              509                  0                 -1   \n",
              "\n",
              "   DFR_L_hallux  Entropy_L_hallux  Mean_L_toes  Range_L_toes  St_Dev_L_toes  \\\n",
              "0             0             -6714          277          1182            301   \n",
              "1             0            -19240          420          1761            507   \n",
              "2             0            -19344          566          1761            545   \n",
              "3             0            -26251          729          1849            613   \n",
              "4             0            -28205          870          1948            736   \n",
              "\n",
              "   DFR_L_mag_x       Label  \n",
              "0            1  downstairs  \n",
              "1            1  downstairs  \n",
              "2            1  downstairs  \n",
              "3            1  downstairs  \n",
              "4            1  downstairs  "
            ],
            "text/html": [
              "\n",
              "  <div id=\"df-11ee1835-23e4-40f2-ab56-94e3e02191fb\">\n",
              "    <div class=\"colab-df-container\">\n",
              "      <div>\n",
              "<style scoped>\n",
              "    .dataframe tbody tr th:only-of-type {\n",
              "        vertical-align: middle;\n",
              "    }\n",
              "\n",
              "    .dataframe tbody tr th {\n",
              "        vertical-align: top;\n",
              "    }\n",
              "\n",
              "    .dataframe thead th {\n",
              "        text-align: right;\n",
              "    }\n",
              "</style>\n",
              "<table border=\"1\" class=\"dataframe\">\n",
              "  <thead>\n",
              "    <tr style=\"text-align: right;\">\n",
              "      <th></th>\n",
              "      <th>Range_L_hallux</th>\n",
              "      <th>St_Dev_L_hallux</th>\n",
              "      <th>Skewness_L_hallux</th>\n",
              "      <th>Kurtosis_L_hallux</th>\n",
              "      <th>DFR_L_hallux</th>\n",
              "      <th>Entropy_L_hallux</th>\n",
              "      <th>Mean_L_toes</th>\n",
              "      <th>Range_L_toes</th>\n",
              "      <th>St_Dev_L_toes</th>\n",
              "      <th>DFR_L_mag_x</th>\n",
              "      <th>Label</th>\n",
              "    </tr>\n",
              "  </thead>\n",
              "  <tbody>\n",
              "    <tr>\n",
              "      <th>0</th>\n",
              "      <td>558</td>\n",
              "      <td>192</td>\n",
              "      <td>1</td>\n",
              "      <td>-1</td>\n",
              "      <td>0</td>\n",
              "      <td>-6714</td>\n",
              "      <td>277</td>\n",
              "      <td>1182</td>\n",
              "      <td>301</td>\n",
              "      <td>1</td>\n",
              "      <td>downstairs</td>\n",
              "    </tr>\n",
              "    <tr>\n",
              "      <th>1</th>\n",
              "      <td>1971</td>\n",
              "      <td>401</td>\n",
              "      <td>2</td>\n",
              "      <td>6</td>\n",
              "      <td>0</td>\n",
              "      <td>-19240</td>\n",
              "      <td>420</td>\n",
              "      <td>1761</td>\n",
              "      <td>507</td>\n",
              "      <td>1</td>\n",
              "      <td>downstairs</td>\n",
              "    </tr>\n",
              "    <tr>\n",
              "      <th>2</th>\n",
              "      <td>1971</td>\n",
              "      <td>381</td>\n",
              "      <td>2</td>\n",
              "      <td>7</td>\n",
              "      <td>0</td>\n",
              "      <td>-19344</td>\n",
              "      <td>566</td>\n",
              "      <td>1761</td>\n",
              "      <td>545</td>\n",
              "      <td>1</td>\n",
              "      <td>downstairs</td>\n",
              "    </tr>\n",
              "    <tr>\n",
              "      <th>3</th>\n",
              "      <td>1827</td>\n",
              "      <td>469</td>\n",
              "      <td>1</td>\n",
              "      <td>0</td>\n",
              "      <td>0</td>\n",
              "      <td>-26251</td>\n",
              "      <td>729</td>\n",
              "      <td>1849</td>\n",
              "      <td>613</td>\n",
              "      <td>1</td>\n",
              "      <td>downstairs</td>\n",
              "    </tr>\n",
              "    <tr>\n",
              "      <th>4</th>\n",
              "      <td>1827</td>\n",
              "      <td>509</td>\n",
              "      <td>0</td>\n",
              "      <td>-1</td>\n",
              "      <td>0</td>\n",
              "      <td>-28205</td>\n",
              "      <td>870</td>\n",
              "      <td>1948</td>\n",
              "      <td>736</td>\n",
              "      <td>1</td>\n",
              "      <td>downstairs</td>\n",
              "    </tr>\n",
              "  </tbody>\n",
              "</table>\n",
              "</div>\n",
              "      <button class=\"colab-df-convert\" onclick=\"convertToInteractive('df-11ee1835-23e4-40f2-ab56-94e3e02191fb')\"\n",
              "              title=\"Convert this dataframe to an interactive table.\"\n",
              "              style=\"display:none;\">\n",
              "        \n",
              "  <svg xmlns=\"http://www.w3.org/2000/svg\" height=\"24px\"viewBox=\"0 0 24 24\"\n",
              "       width=\"24px\">\n",
              "    <path d=\"M0 0h24v24H0V0z\" fill=\"none\"/>\n",
              "    <path d=\"M18.56 5.44l.94 2.06.94-2.06 2.06-.94-2.06-.94-.94-2.06-.94 2.06-2.06.94zm-11 1L8.5 8.5l.94-2.06 2.06-.94-2.06-.94L8.5 2.5l-.94 2.06-2.06.94zm10 10l.94 2.06.94-2.06 2.06-.94-2.06-.94-.94-2.06-.94 2.06-2.06.94z\"/><path d=\"M17.41 7.96l-1.37-1.37c-.4-.4-.92-.59-1.43-.59-.52 0-1.04.2-1.43.59L10.3 9.45l-7.72 7.72c-.78.78-.78 2.05 0 2.83L4 21.41c.39.39.9.59 1.41.59.51 0 1.02-.2 1.41-.59l7.78-7.78 2.81-2.81c.8-.78.8-2.07 0-2.86zM5.41 20L4 18.59l7.72-7.72 1.47 1.35L5.41 20z\"/>\n",
              "  </svg>\n",
              "      </button>\n",
              "      \n",
              "  <style>\n",
              "    .colab-df-container {\n",
              "      display:flex;\n",
              "      flex-wrap:wrap;\n",
              "      gap: 12px;\n",
              "    }\n",
              "\n",
              "    .colab-df-convert {\n",
              "      background-color: #E8F0FE;\n",
              "      border: none;\n",
              "      border-radius: 50%;\n",
              "      cursor: pointer;\n",
              "      display: none;\n",
              "      fill: #1967D2;\n",
              "      height: 32px;\n",
              "      padding: 0 0 0 0;\n",
              "      width: 32px;\n",
              "    }\n",
              "\n",
              "    .colab-df-convert:hover {\n",
              "      background-color: #E2EBFA;\n",
              "      box-shadow: 0px 1px 2px rgba(60, 64, 67, 0.3), 0px 1px 3px 1px rgba(60, 64, 67, 0.15);\n",
              "      fill: #174EA6;\n",
              "    }\n",
              "\n",
              "    [theme=dark] .colab-df-convert {\n",
              "      background-color: #3B4455;\n",
              "      fill: #D2E3FC;\n",
              "    }\n",
              "\n",
              "    [theme=dark] .colab-df-convert:hover {\n",
              "      background-color: #434B5C;\n",
              "      box-shadow: 0px 1px 3px 1px rgba(0, 0, 0, 0.15);\n",
              "      filter: drop-shadow(0px 1px 2px rgba(0, 0, 0, 0.3));\n",
              "      fill: #FFFFFF;\n",
              "    }\n",
              "  </style>\n",
              "\n",
              "      <script>\n",
              "        const buttonEl =\n",
              "          document.querySelector('#df-11ee1835-23e4-40f2-ab56-94e3e02191fb button.colab-df-convert');\n",
              "        buttonEl.style.display =\n",
              "          google.colab.kernel.accessAllowed ? 'block' : 'none';\n",
              "\n",
              "        async function convertToInteractive(key) {\n",
              "          const element = document.querySelector('#df-11ee1835-23e4-40f2-ab56-94e3e02191fb');\n",
              "          const dataTable =\n",
              "            await google.colab.kernel.invokeFunction('convertToInteractive',\n",
              "                                                     [key], {});\n",
              "          if (!dataTable) return;\n",
              "\n",
              "          const docLinkHtml = 'Like what you see? Visit the ' +\n",
              "            '<a target=\"_blank\" href=https://colab.research.google.com/notebooks/data_table.ipynb>data table notebook</a>'\n",
              "            + ' to learn more about interactive tables.';\n",
              "          element.innerHTML = '';\n",
              "          dataTable['output_type'] = 'display_data';\n",
              "          await google.colab.output.renderOutput(dataTable, element);\n",
              "          const docLink = document.createElement('div');\n",
              "          docLink.innerHTML = docLinkHtml;\n",
              "          element.appendChild(docLink);\n",
              "        }\n",
              "      </script>\n",
              "    </div>\n",
              "  </div>\n",
              "  "
            ]
          },
          "metadata": {},
          "execution_count": 227
        }
      ]
    },
    {
      "cell_type": "code",
      "source": [
        "from sklearn.cluster import SpectralClustering\n",
        "from sklearn.preprocessing import StandardScaler, normalize\n",
        "from sklearn.decomposition import PCA\n",
        "from sklearn.metrics import silhouette_score\n",
        "scaler = StandardScaler()\n",
        "X_scaled = scaler.fit_transform(X)\n",
        "  \n",
        "X_normalized = normalize(X_scaled)\n",
        "X_normalized = pd.DataFrame(X_normalized)\n",
        "\n",
        "pca = PCA(n_components = 2)\n",
        "X_principal = pca.fit_transform(X_normalized)\n",
        "X_principal = pd.DataFrame(X_principal)\n",
        "X_principal.columns = ['P1', 'P2']\n",
        "  \n",
        "X_principal.head()"
      ],
      "metadata": {
        "id": "QFfqD5RAjdbb",
        "colab": {
          "base_uri": "https://localhost:8080/",
          "height": 206
        },
        "outputId": "f1f85aa4-1127-44eb-e011-eac26575eeb3"
      },
      "execution_count": null,
      "outputs": [
        {
          "output_type": "execute_result",
          "data": {
            "text/plain": [
              "         P1        P2\n",
              "0 -0.004693  0.510594\n",
              "1  0.916918 -0.399095\n",
              "2  0.914817 -0.356713\n",
              "3  0.949517 -0.026226\n",
              "4  0.934420  0.123880"
            ],
            "text/html": [
              "\n",
              "  <div id=\"df-f8af4acf-9e19-4f31-a21b-fbbbd47c10d7\">\n",
              "    <div class=\"colab-df-container\">\n",
              "      <div>\n",
              "<style scoped>\n",
              "    .dataframe tbody tr th:only-of-type {\n",
              "        vertical-align: middle;\n",
              "    }\n",
              "\n",
              "    .dataframe tbody tr th {\n",
              "        vertical-align: top;\n",
              "    }\n",
              "\n",
              "    .dataframe thead th {\n",
              "        text-align: right;\n",
              "    }\n",
              "</style>\n",
              "<table border=\"1\" class=\"dataframe\">\n",
              "  <thead>\n",
              "    <tr style=\"text-align: right;\">\n",
              "      <th></th>\n",
              "      <th>P1</th>\n",
              "      <th>P2</th>\n",
              "    </tr>\n",
              "  </thead>\n",
              "  <tbody>\n",
              "    <tr>\n",
              "      <th>0</th>\n",
              "      <td>-0.004693</td>\n",
              "      <td>0.510594</td>\n",
              "    </tr>\n",
              "    <tr>\n",
              "      <th>1</th>\n",
              "      <td>0.916918</td>\n",
              "      <td>-0.399095</td>\n",
              "    </tr>\n",
              "    <tr>\n",
              "      <th>2</th>\n",
              "      <td>0.914817</td>\n",
              "      <td>-0.356713</td>\n",
              "    </tr>\n",
              "    <tr>\n",
              "      <th>3</th>\n",
              "      <td>0.949517</td>\n",
              "      <td>-0.026226</td>\n",
              "    </tr>\n",
              "    <tr>\n",
              "      <th>4</th>\n",
              "      <td>0.934420</td>\n",
              "      <td>0.123880</td>\n",
              "    </tr>\n",
              "  </tbody>\n",
              "</table>\n",
              "</div>\n",
              "      <button class=\"colab-df-convert\" onclick=\"convertToInteractive('df-f8af4acf-9e19-4f31-a21b-fbbbd47c10d7')\"\n",
              "              title=\"Convert this dataframe to an interactive table.\"\n",
              "              style=\"display:none;\">\n",
              "        \n",
              "  <svg xmlns=\"http://www.w3.org/2000/svg\" height=\"24px\"viewBox=\"0 0 24 24\"\n",
              "       width=\"24px\">\n",
              "    <path d=\"M0 0h24v24H0V0z\" fill=\"none\"/>\n",
              "    <path d=\"M18.56 5.44l.94 2.06.94-2.06 2.06-.94-2.06-.94-.94-2.06-.94 2.06-2.06.94zm-11 1L8.5 8.5l.94-2.06 2.06-.94-2.06-.94L8.5 2.5l-.94 2.06-2.06.94zm10 10l.94 2.06.94-2.06 2.06-.94-2.06-.94-.94-2.06-.94 2.06-2.06.94z\"/><path d=\"M17.41 7.96l-1.37-1.37c-.4-.4-.92-.59-1.43-.59-.52 0-1.04.2-1.43.59L10.3 9.45l-7.72 7.72c-.78.78-.78 2.05 0 2.83L4 21.41c.39.39.9.59 1.41.59.51 0 1.02-.2 1.41-.59l7.78-7.78 2.81-2.81c.8-.78.8-2.07 0-2.86zM5.41 20L4 18.59l7.72-7.72 1.47 1.35L5.41 20z\"/>\n",
              "  </svg>\n",
              "      </button>\n",
              "      \n",
              "  <style>\n",
              "    .colab-df-container {\n",
              "      display:flex;\n",
              "      flex-wrap:wrap;\n",
              "      gap: 12px;\n",
              "    }\n",
              "\n",
              "    .colab-df-convert {\n",
              "      background-color: #E8F0FE;\n",
              "      border: none;\n",
              "      border-radius: 50%;\n",
              "      cursor: pointer;\n",
              "      display: none;\n",
              "      fill: #1967D2;\n",
              "      height: 32px;\n",
              "      padding: 0 0 0 0;\n",
              "      width: 32px;\n",
              "    }\n",
              "\n",
              "    .colab-df-convert:hover {\n",
              "      background-color: #E2EBFA;\n",
              "      box-shadow: 0px 1px 2px rgba(60, 64, 67, 0.3), 0px 1px 3px 1px rgba(60, 64, 67, 0.15);\n",
              "      fill: #174EA6;\n",
              "    }\n",
              "\n",
              "    [theme=dark] .colab-df-convert {\n",
              "      background-color: #3B4455;\n",
              "      fill: #D2E3FC;\n",
              "    }\n",
              "\n",
              "    [theme=dark] .colab-df-convert:hover {\n",
              "      background-color: #434B5C;\n",
              "      box-shadow: 0px 1px 3px 1px rgba(0, 0, 0, 0.15);\n",
              "      filter: drop-shadow(0px 1px 2px rgba(0, 0, 0, 0.3));\n",
              "      fill: #FFFFFF;\n",
              "    }\n",
              "  </style>\n",
              "\n",
              "      <script>\n",
              "        const buttonEl =\n",
              "          document.querySelector('#df-f8af4acf-9e19-4f31-a21b-fbbbd47c10d7 button.colab-df-convert');\n",
              "        buttonEl.style.display =\n",
              "          google.colab.kernel.accessAllowed ? 'block' : 'none';\n",
              "\n",
              "        async function convertToInteractive(key) {\n",
              "          const element = document.querySelector('#df-f8af4acf-9e19-4f31-a21b-fbbbd47c10d7');\n",
              "          const dataTable =\n",
              "            await google.colab.kernel.invokeFunction('convertToInteractive',\n",
              "                                                     [key], {});\n",
              "          if (!dataTable) return;\n",
              "\n",
              "          const docLinkHtml = 'Like what you see? Visit the ' +\n",
              "            '<a target=\"_blank\" href=https://colab.research.google.com/notebooks/data_table.ipynb>data table notebook</a>'\n",
              "            + ' to learn more about interactive tables.';\n",
              "          element.innerHTML = '';\n",
              "          dataTable['output_type'] = 'display_data';\n",
              "          await google.colab.output.renderOutput(dataTable, element);\n",
              "          const docLink = document.createElement('div');\n",
              "          docLink.innerHTML = docLinkHtml;\n",
              "          element.appendChild(docLink);\n",
              "        }\n",
              "      </script>\n",
              "    </div>\n",
              "  </div>\n",
              "  "
            ]
          },
          "metadata": {},
          "execution_count": 230
        }
      ]
    },
    {
      "cell_type": "code",
      "source": [
        "spectral_model_rbf = SpectralClustering(n_clusters = 2, affinity ='rbf')\n",
        "labels_rbf = spectral_model_rbf.fit_predict(X_principal)"
      ],
      "metadata": {
        "id": "7-bjyvC0jdYK"
      },
      "execution_count": null,
      "outputs": []
    },
    {
      "cell_type": "code",
      "source": [
        "colours = {}\n",
        "colours[0] = 'b'\n",
        "colours[1] = 'y'\n",
        "  \n",
        "cvec = [colours[label] for label in labels_rbf]\n",
        "  \n",
        "b = plt.scatter(X_principal['P1'], X_principal['P2'], color ='b');\n",
        "y = plt.scatter(X_principal['P1'], X_principal['P2'], color ='y');\n",
        "  \n",
        "plt.figure(figsize =(9, 9))\n",
        "plt.scatter(X_principal['P1'], X_principal['P2'], c = cvec)\n",
        "plt.legend((b, y), ('Label 0', 'Label 1'))\n",
        "plt.show()"
      ],
      "metadata": {
        "colab": {
          "base_uri": "https://localhost:8080/",
          "height": 781
        },
        "id": "1ICj2sum01hz",
        "outputId": "ad42123f-4256-41ca-d6ba-b2241b5367b8"
      },
      "execution_count": null,
      "outputs": [
        {
          "output_type": "display_data",
          "data": {
            "text/plain": [
              "<Figure size 432x288 with 1 Axes>"
            ],
            "image/png": "[encoded data removed]"
          },
          "metadata": {
            "needs_background": "light"
          }
        },
        {
          "output_type": "display_data",
          "data": {
            "text/plain": [
              "<Figure size 648x648 with 1 Axes>"
            ],
            "image/png": "[encoded data removed]"
          },
          "metadata": {
            "needs_background": "light"
          }
        }
      ]
    },
    {
      "cell_type": "code",
      "source": [
        "spectral_model_nn = SpectralClustering(n_clusters = 2, affinity ='nearest_neighbors')\n",
        "  \n",
        "labels_nn = spectral_model_nn.fit_predict(X_principal)"
      ],
      "metadata": {
        "id": "RnipwR8X1Gw_"
      },
      "execution_count": null,
      "outputs": []
    },
    {
      "cell_type": "code",
      "source": [
        "affinity = ['rbf', 'nearest-neighbours']\n",
        "s_scores = []\n",
        "s_scores.append(silhouette_score(X, labels_rbf))\n",
        "s_scores.append(silhouette_score(X, labels_nn))\n",
        "print(s_scores)"
      ],
      "metadata": {
        "colab": {
          "base_uri": "https://localhost:8080/"
        },
        "id": "bupbm5BM1I6r",
        "outputId": "0a445a06-0dd0-4963-bd8a-527778137411"
      },
      "execution_count": null,
      "outputs": [
        {
          "output_type": "stream",
          "name": "stdout",
          "text": [
            "[0.546706477171965, 0.16937323622369382]\n"
          ]
        }
      ]
    },
    {
      "cell_type": "markdown",
      "source": [
        "# Summary\n",
        "Spectral Clustering is a developing clustering technique that outperforms several existing clustering algorithms in so many circumstances. It considers each data point to be a graph node, transforming the clustering issue into a graph partitioning problem. The graph is showing the match and also the score in the upper cell."
      ],
      "metadata": {
        "id": "eJwUCFhq73Pd"
      }
    },
    {
      "cell_type": "code",
      "source": [],
      "metadata": {
        "id": "L-FTgmrL1MWk"
      },
      "execution_count": null,
      "outputs": []
    }
  ]
}